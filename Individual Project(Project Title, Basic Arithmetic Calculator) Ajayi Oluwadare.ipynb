{
 "cells": [
  {
   "cell_type": "code",
   "execution_count": 3,
   "id": "7aa34088",
   "metadata": {},
   "outputs": [
    {
     "name": "stdout",
     "output_type": "stream",
     "text": [
      "Welcome to the Basic Arithmetic Calculator!\n",
      "Enter your first number: 30\n",
      "Enter your second number: 10\n",
      "Select operation:\n",
      "+. Addition\n",
      "-. Subtraction\n",
      "*. Multiplication\n",
      "/. Division\n",
      "Enter the operation number (+/-/*//): +\n",
      "30.0 + 10.0 = 40.0\n",
      "Will you like to perform another calculation? (yes/no): no\n",
      "Thank you for using the Basic Arithmetic Calculator! Have a great day!.\n"
     ]
    }
   ],
   "source": [
    "print(\"Welcome to the Basic Arithmetic Calculator!\")\n",
    "\n",
    "def add(a, b):\n",
    "    return a + b\n",
    "\n",
    "def subtract(a, b):\n",
    "    return a - b\n",
    "\n",
    "def multiply(a, b):\n",
    "    return a * b\n",
    "\n",
    "def divide(a, b):\n",
    "    return a / b\n",
    "\n",
    "while True:\n",
    "\n",
    "    try:\n",
    "        num1 = float(input(\"Enter your first number: \"))\n",
    "        num2 = float(input(\"Enter your second number: \"))\n",
    "    except ValueError:\n",
    "        print(\"Invalid input. Please enter valid numbers.\")\n",
    "        continue\n",
    "\n",
    "    print(\"Select operation:\")\n",
    "    print(\"+. Addition\")\n",
    "    print(\"-. Subtraction\")\n",
    "    print(\"*. Multiplication\")\n",
    "    print(\"/. Division\")\n",
    "\n",
    "    operation = input(\"Enter the operation number (+/-/*//): \")\n",
    "\n",
    "    if operation == '+':\n",
    "        result = add(num1, num2)\n",
    "        print(f\"{num1} + {num2} = {result}\")\n",
    "    elif operation == '-':\n",
    "        result = subtract(num1, num2)\n",
    "        print(f\"{num1} - {num2} = {result}\")\n",
    "    elif operation == '*':\n",
    "        result = multiply(num1, num2)\n",
    "        print(f\"{num1} * {num2} = {result}\")\n",
    "    elif operation == '/':\n",
    "        \n",
    "        if num2 == 0:\n",
    "            print(\"Error: Cannot divide by zero.\")\n",
    "        else:\n",
    "            result = divide(num1, num2)\n",
    "            print(f\"{num1} / {num2} = {result}\")\n",
    "    else:\n",
    "        print(\"Invalid operation. Please select a valid operation.\")\n",
    "\n",
    "    next_calc = input(\"Will you like to perform another calculation? (yes/no): \")\n",
    "    if next_calc.lower() != \"yes\":\n",
    "        print(\"Thank you for using the Basic Arithmetic Calculator! Have a great day!.\")\n",
    "        break"
   ]
  },
  {
   "cell_type": "code",
   "execution_count": null,
   "id": "842e215e",
   "metadata": {},
   "outputs": [],
   "source": []
  }
 ],
 "metadata": {
  "kernelspec": {
   "display_name": "Python 3 (ipykernel)",
   "language": "python",
   "name": "python3"
  },
  "language_info": {
   "codemirror_mode": {
    "name": "ipython",
    "version": 3
   },
   "file_extension": ".py",
   "mimetype": "text/x-python",
   "name": "python",
   "nbconvert_exporter": "python",
   "pygments_lexer": "ipython3",
   "version": "3.10.9"
  }
 },
 "nbformat": 4,
 "nbformat_minor": 5
}
